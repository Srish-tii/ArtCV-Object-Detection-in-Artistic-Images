{
 "cells": [
  {
   "cell_type": "markdown",
   "metadata": {},
   "source": [
    "## `filter_coco`\n",
    "\n",
    "Use `COCOAPI` to filter full dataset and save only images containing people "
   ]
  },
  {
   "cell_type": "code",
   "execution_count": 33,
   "metadata": {},
   "outputs": [],
   "source": [
    "import re\n",
    "import os\n",
    "import glob\n",
    "from pycocotools.coco import COCO"
   ]
  },
  {
   "cell_type": "code",
   "execution_count": 36,
   "metadata": {},
   "outputs": [
    {
     "name": "stdout",
     "output_type": "stream",
     "text": [
      "loading annotations into memory...\n",
      "Done (t=11.36s)\n",
      "creating index...\n",
      "index created!\n",
      "loading annotations into memory...\n",
      "Done (t=0.51s)\n",
      "creating index...\n",
      "index created!\n"
     ]
    }
   ],
   "source": [
    "dataTypes = ['train', 'val']\n",
    "dataDir='data'\n",
    "for dataType in dataTypes:\n",
    "    annFile='{}/annotations/instances_{}.json'.format(dataDir,dataType + \"2017\")\n",
    "    coco = COCO(annFile)\n",
    "\n",
    "    catIds = coco.getCatIds(catNms=['person'])\n",
    "    imgIds = coco.getImgIds(catIds=catIds)\n",
    "    imgIds_sorted = sorted(imgIds)\n",
    "\n",
    "    fnames = glob.glob(f\"data/content_dir/{dataType}/*.jpg\")\n",
    "    for fname in fnames:\n",
    "        try:\n",
    "            imgId = int(re.findall(r'[1-9][0-9]*', fname)[0])\n",
    "        except IndexError:\n",
    "            print(fname)\n",
    "            break\n",
    "        if imgId not in imgIds_sorted:\n",
    "            os.remove(fname)"
   ]
  }
 ],
 "metadata": {
  "kernelspec": {
   "display_name": "Python 3",
   "language": "python",
   "name": "python3"
  },
  "language_info": {
   "codemirror_mode": {
    "name": "ipython",
    "version": 3
   },
   "file_extension": ".py",
   "mimetype": "text/x-python",
   "name": "python",
   "nbconvert_exporter": "python",
   "pygments_lexer": "ipython3",
   "version": "3.10.12"
  }
 },
 "nbformat": 4,
 "nbformat_minor": 2
}
