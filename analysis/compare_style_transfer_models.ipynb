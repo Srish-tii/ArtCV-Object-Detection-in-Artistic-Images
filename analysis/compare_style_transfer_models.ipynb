{
 "cells": [
  {
   "cell_type": "markdown",
   "metadata": {},
   "source": [
    "## Compare style transfer models\n",
    "\n",
    "Comparing results of AdaIn, WCT and SANet"
   ]
  },
  {
   "cell_type": "code",
   "execution_count": 1,
   "metadata": {},
   "outputs": [],
   "source": [
    "import os\n",
    "import glob\n",
    "import re\n",
    "import numpy as np\n",
    "from PIL import Image\n",
    "import matplotlib.pyplot as plt"
   ]
  },
  {
   "cell_type": "code",
   "execution_count": 2,
   "metadata": {},
   "outputs": [],
   "source": [
    "wct_paths  = glob.glob(\"../output/styled_images/ArtFlow/train/*.jpg\")\n",
    "san_paths  = glob.glob(\"../output/styled_images/SANet/train/*.jpg\")\n",
    "\n",
    "content_pic_ids = np.array([re.findall(r'([0-9]+)_stylized', fname)[0] for fname in wct_paths])\n",
    "style_pic_ids = np.array([re.findall(r'stylized_([0-9]+)', fname)[0] for fname in wct_paths])"
   ]
  },
  {
   "cell_type": "code",
   "execution_count": 3,
   "metadata": {},
   "outputs": [],
   "source": [
    "rand_idxs = np.random.randint(0, len(wct_paths), 5)\n",
    "content_ids = content_pic_ids[rand_idxs]\n",
    "style_ids = style_pic_ids[rand_idxs]"
   ]
  },
  {
   "cell_type": "code",
   "execution_count": 4,
   "metadata": {},
   "outputs": [
    {
     "ename": "FileNotFoundError",
     "evalue": "[Errno 2] No such file or directory: '../output/styled_images/SANet/train/000000283704_stylized_329.jpg'",
     "output_type": "error",
     "traceback": [
      "\u001b[0;31m---------------------------------------------------------------------------\u001b[0m",
      "\u001b[0;31mFileNotFoundError\u001b[0m                         Traceback (most recent call last)",
      "Cell \u001b[0;32mIn[4], line 5\u001b[0m\n\u001b[1;32m      2\u001b[0m wct_img \u001b[38;5;241m=\u001b[39m Image\u001b[38;5;241m.\u001b[39mopen(\u001b[38;5;124mf\u001b[39m\u001b[38;5;124m'\u001b[39m\u001b[38;5;124m../output/styled_images/ArtFlow/train/\u001b[39m\u001b[38;5;132;01m{\u001b[39;00mc_id\u001b[38;5;132;01m}\u001b[39;00m\u001b[38;5;124m_stylized_\u001b[39m\u001b[38;5;132;01m{\u001b[39;00ms_id\u001b[38;5;132;01m}\u001b[39;00m\u001b[38;5;124m.jpg\u001b[39m\u001b[38;5;124m'\u001b[39m)\n\u001b[1;32m      3\u001b[0m wct_img \u001b[38;5;241m=\u001b[39m np\u001b[38;5;241m.\u001b[39marray(wct_img)\n\u001b[0;32m----> 5\u001b[0m san_img \u001b[38;5;241m=\u001b[39m \u001b[43mImage\u001b[49m\u001b[38;5;241;43m.\u001b[39;49m\u001b[43mopen\u001b[49m\u001b[43m(\u001b[49m\u001b[38;5;124;43mf\u001b[39;49m\u001b[38;5;124;43m'\u001b[39;49m\u001b[38;5;124;43m../output/styled_images/SANet/train/\u001b[39;49m\u001b[38;5;132;43;01m{\u001b[39;49;00m\u001b[43mc_id\u001b[49m\u001b[38;5;132;43;01m}\u001b[39;49;00m\u001b[38;5;124;43m_stylized_\u001b[39;49m\u001b[38;5;132;43;01m{\u001b[39;49;00m\u001b[43ms_id\u001b[49m\u001b[38;5;132;43;01m}\u001b[39;49;00m\u001b[38;5;124;43m.jpg\u001b[39;49m\u001b[38;5;124;43m'\u001b[39;49m\u001b[43m)\u001b[49m\n\u001b[1;32m      6\u001b[0m san_img \u001b[38;5;241m=\u001b[39m np\u001b[38;5;241m.\u001b[39marray(san_img)\n\u001b[1;32m      8\u001b[0m wct_h, wct_w, _ \u001b[38;5;241m=\u001b[39m wct_img\u001b[38;5;241m.\u001b[39mshape\n",
      "File \u001b[0;32m/usr/lib/python3/dist-packages/PIL/Image.py:2953\u001b[0m, in \u001b[0;36mopen\u001b[0;34m(fp, mode, formats)\u001b[0m\n\u001b[1;32m   2950\u001b[0m     filename \u001b[38;5;241m=\u001b[39m fp\n\u001b[1;32m   2952\u001b[0m \u001b[38;5;28;01mif\u001b[39;00m filename:\n\u001b[0;32m-> 2953\u001b[0m     fp \u001b[38;5;241m=\u001b[39m \u001b[43mbuiltins\u001b[49m\u001b[38;5;241;43m.\u001b[39;49m\u001b[43mopen\u001b[49m\u001b[43m(\u001b[49m\u001b[43mfilename\u001b[49m\u001b[43m,\u001b[49m\u001b[43m \u001b[49m\u001b[38;5;124;43m\"\u001b[39;49m\u001b[38;5;124;43mrb\u001b[39;49m\u001b[38;5;124;43m\"\u001b[39;49m\u001b[43m)\u001b[49m\n\u001b[1;32m   2954\u001b[0m     exclusive_fp \u001b[38;5;241m=\u001b[39m \u001b[38;5;28;01mTrue\u001b[39;00m\n\u001b[1;32m   2956\u001b[0m \u001b[38;5;28;01mtry\u001b[39;00m:\n",
      "\u001b[0;31mFileNotFoundError\u001b[0m: [Errno 2] No such file or directory: '../output/styled_images/SANet/train/000000283704_stylized_329.jpg'"
     ]
    }
   ],
   "source": [
    "for c_id, s_id in zip(content_ids, style_ids):\n",
    "    wct_img = Image.open(f'../output/styled_images/ArtFlow/train/{c_id}_stylized_{s_id}.jpg')\n",
    "    wct_img = np.array(wct_img)\n",
    "\n",
    "    san_img = Image.open(f'../output/styled_images/SANet/train/{c_id}_stylized_{s_id}.jpg')\n",
    "    san_img = np.array(san_img)\n",
    "    \n",
    "    wct_h, wct_w, _ = wct_img.shape\n",
    "    san_h, san_w, _ = san_img.shape\n",
    "    new_height = max(wct_h, san_h)\n",
    "    stitch = np.zeros(shape=(new_height, wct_w + san_w, 3))\n",
    "    stitch[:wct_h, :wct_w, :] = wct_img[:, :, :3]\n",
    "    stitch[:san_h, wct_w:(wct_w+san_w), :] = san_img[:, :, :3]\n",
    "    stitch[:san_h, (wct_w+san_w):, :] = san_img[:, :, :3]\n",
    "    result = Image.fromarray(stitch.astype(np.uint8)).convert('RGB')\n",
    "\n",
    "    fig, ax = plt.subplots()\n",
    "    ax.imshow(result)\n",
    "    plt.show()"
   ]
  }
 ],
 "metadata": {
  "kernelspec": {
   "display_name": "Python 3",
   "language": "python",
   "name": "python3"
  },
  "language_info": {
   "codemirror_mode": {
    "name": "ipython",
    "version": 3
   },
   "file_extension": ".py",
   "mimetype": "text/x-python",
   "name": "python",
   "nbconvert_exporter": "python",
   "pygments_lexer": "ipython3",
   "version": "3.10.12"
  }
 },
 "nbformat": 4,
 "nbformat_minor": 2
}
